{
 "cells": [
  {
   "cell_type": "code",
   "execution_count": null,
   "id": "d6ea944e",
   "metadata": {},
   "outputs": [],
   "source": [
    "from selenium import webdriver\n",
    "from bs4 import BeautifulSoup\n",
    "import pandas as pd\n",
    "#install chrom webdriver\n",
    "#webdriver can be downloaded from\n",
    "#https://chromedriver.storage.googleapis.com/index.html?path=94.0.4606.41/\n",
    "driver = webdriver.Chrome(executable_path=r'C:\\Users\\uswa nasir\\Desktop\\chromedriver_win32\\chromedriver.exe')\n",
    "products=[] #List to store name of the product\n",
    "prices=[] #List to store price of the product\n",
    "ratings =[]\n",
    "# discounts=[]\n",
    "# ratings=[] #List to store rating of the product\n",
    "for page in range(1,102):\n",
    "    driver.get(\"https://www.daraz.pk/womens-dresses/?from=onesearch_category_1738&item_id=202832216&page=\"+str(page)+\"&spm=a2a0e.searchlistcategory.card.1.5f8e27f3fkYocj\")\n",
    "    content = driver.page_source\n",
    "    soup = BeautifulSoup(content)\n",
    "\n",
    "# print(soup)\n",
    "for a in soup.findAll('div',attrs={'class':'c3e8SH c2mzns'}):\n",
    "    name=a.find('div', attrs={'class':'c16H9d'})\n",
    "    products.append(name.text)\n",
    "    price=a.find('div', attrs={'class':'c3gUW0'})\n",
    "    prices.append(price.text)\n",
    "    if(a.find('div', attrs={'class':'c2JB4x c6Ntq9'})):\n",
    "        rating=a.find('div', attrs={'class':'c2JB4x c6Ntq9'}).text\n",
    "        ratings.append(rating)\n",
    "    else:\n",
    "        rating=\"No Ratingg Available\"\n",
    "        ratings.append(rating)\n",
    "        \n",
    "            \n",
    "    \n",
    "    \n",
    "         \n",
    "#     discount = a.find('span', attrs={'class':'c1hkC1'})\n",
    "#     products.append(name.text)\n",
    "#     prices.append(price.text)\n",
    "#     ratings.append(rating.text)\n",
    "#     discounts.append(discount.text)\n",
    "print(len(products))\n",
    "print(len(prices))\n",
    "print(len(ratings))\n",
    "# print(len(discounts))\n",
    "df = pd.DataFrame({'Product Name':products,'Price':prices, 'Rating':ratings})\n",
    "df.to_csv('ClothesInfo.csv', index=False, encoding='utf-8')\n",
    "dataset = pd.DataFrame(data = df)\n",
    "print(dataset)"
   ]
  }
 ],
 "metadata": {
  "kernelspec": {
   "display_name": "Python 3",
   "language": "python",
   "name": "python3"
  },
  "language_info": {
   "codemirror_mode": {
    "name": "ipython",
    "version": 3
   },
   "file_extension": ".py",
   "mimetype": "text/x-python",
   "name": "python",
   "nbconvert_exporter": "python",
   "pygments_lexer": "ipython3",
   "version": "3.8.8"
  }
 },
 "nbformat": 4,
 "nbformat_minor": 5
}
