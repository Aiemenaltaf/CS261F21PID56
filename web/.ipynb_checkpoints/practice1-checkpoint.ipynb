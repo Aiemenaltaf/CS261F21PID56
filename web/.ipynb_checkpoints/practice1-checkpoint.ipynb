{
 "cells": [
  {
   "cell_type": "code",
   "execution_count": 7,
   "id": "0e9eeb44",
   "metadata": {},
   "outputs": [
    {
     "name": "stdout",
     "output_type": "stream",
     "text": [
      "Requirement already satisfied: selenium in c:\\users\\uswa nasir\\downloads\\anaconda\\lib\\site-packages (3.141.0)\n",
      "Requirement already satisfied: urllib3 in c:\\users\\uswa nasir\\downloads\\anaconda\\lib\\site-packages (from selenium) (1.26.4)\n",
      "Requirement already satisfied: beautifulsoup4 in c:\\users\\uswa nasir\\downloads\\anaconda\\lib\\site-packages (4.9.3)\n",
      "Requirement already satisfied: soupsieve>1.2 in c:\\users\\uswa nasir\\downloads\\anaconda\\lib\\site-packages (from beautifulsoup4) (2.2.1)\n"
     ]
    }
   ],
   "source": [
    "!pip install selenium \n",
    "!pip install beautifulsoup4 \n",
    "from selenium import webdriver\n",
    "from bs4 import BeautifulSoup\n",
    "import pandas as pd\n",
    "#install chrom webdriver\n",
    "#webdriver can be downloaded from\n",
    "#https://chromedriver.storage.googleapis.com/index.html?path=94.0.4606.41/\n",
    "driver = webdriver.Chrome(executable_path=r'C:\\Users\\uswa nasir\\Desktop\\chromedriver_win32\\chromedriver.exe')\n",
    "products=[] #List to store name of the product\n",
    "prices=[] #List to store price of the product\n",
    "ratings=[] #List to store rating of the product\n",
    "\n",
    "driver.get(\"https://www.flipkart.com/gaming-laptops-store?otracker=nmenu_sub_Electronics_0_Gaming%20Laptops&otracker=nmenu_sub_Electronics_0_Gaming%20Laptops\")\n",
    "content = driver.page_source\n",
    "soup = BeautifulSoup(content)\n",
    "\n",
    "# print(soup)"
   ]
  },
  {
   "cell_type": "code",
   "execution_count": null,
   "id": "723b7652",
   "metadata": {},
   "outputs": [],
   "source": [
    "for a in soup.findAll('div',attrs={'class':'_3YgSsQ'}):\n",
    "    name=a.find('a', attrs={'class':'s1Q9rs'})\n",
    "    price=a.find('div', attrs={'class':'_30jeq3'})\n",
    "    rating=a.find('div', attrs={'class':'_3LWZlK'})\n",
    "#     print (rating.text)\n",
    "    products.append(name.text)\n",
    "    prices.append(price.text)\n",
    "#     ratings.append(rating.text)\n",
    "\n",
    "print(len(products))\n",
    "print(len(prices))\n",
    "df = pd.DataFrame({'Product Name':products,'Price':prices})\n",
    "df.to_csv('products.csv', index=False, encoding='utf-8')"
   ]
  },
  {
   "cell_type": "code",
   "execution_count": null,
   "id": "79863bac",
   "metadata": {},
   "outputs": [],
   "source": []
  }
 ],
 "metadata": {
  "kernelspec": {
   "display_name": "Python 3",
   "language": "python",
   "name": "python3"
  },
  "language_info": {
   "codemirror_mode": {
    "name": "ipython",
    "version": 3
   },
   "file_extension": ".py",
   "mimetype": "text/x-python",
   "name": "python",
   "nbconvert_exporter": "python",
   "pygments_lexer": "ipython3",
   "version": "3.8.8"
  }
 },
 "nbformat": 4,
 "nbformat_minor": 5
}
